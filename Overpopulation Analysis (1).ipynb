{
 "cells": [
  {
   "cell_type": "code",
   "execution_count": 22,
   "id": "a07fe12e",
   "metadata": {},
   "outputs": [],
   "source": [
    "import pandas as pd\n",
    "import numpy as np\n",
    "from sklearn.linear_model import LinearRegression\n",
    "import re\n",
    "import json"
   ]
  },
  {
   "cell_type": "code",
   "execution_count": 23,
   "id": "0c04462d",
   "metadata": {},
   "outputs": [],
   "source": [
    "import warnings\n",
    "warnings.filterwarnings(\"ignore\")"
   ]
  },
  {
   "cell_type": "code",
   "execution_count": 40,
   "id": "1cff2c20",
   "metadata": {},
   "outputs": [
    {
     "name": "stdout",
     "output_type": "stream",
     "text": [
      "Please input the country name: bangladesh\n",
      "Please input the year to predict: 2025\n",
      "\n",
      " Result: BANGLADESH population in 2025 will be 177,031,475\n"
     ]
    }
   ],
   "source": [
    "def country_list_gen(df):\n",
    "    df.rename(columns={'Country Name':'country_name'},inplace=True)\n",
    "    df['country_name'] = df['country_name'].apply(lambda row: row.lower())\n",
    "    lists = df['country_name'].unique().tolist()\n",
    "    with open('country_list.json','w', encoding='utf-8') as f:\n",
    "        json.dump(lists, f, ensure_ascii=False,indent=4)\n",
    "    return lists, df\n",
    "\n",
    "def selecting_country(df,country):\n",
    "    df = df.loc[df['country_name']==country]\n",
    "    df.drop(['country_name','Country Code','Indicator Name','Indicator Code'],axis=1,inplace=True)\n",
    "    df = df.T\n",
    "    df.dropna(inplace=True)\n",
    "    df = df.reset_index()\n",
    "    return df\n",
    "def prediction_model(df):\n",
    "    x = df.iloc[:, 0].values.reshape(-1,1)\n",
    "    y = df.iloc[:, 1].values.reshape(-1,1)\n",
    "    model = LinearRegression().fit(x,y)\n",
    "    return model\n",
    "def prediction(model, year):\n",
    "    return int(model.coef_[0][0] * year + model.intercept_[0])\n",
    "\n",
    "def main():\n",
    "    country = input(\"Please input the country name: \").lower()\n",
    "    year = int(input(\"Please input the year to predict: \"))\n",
    "    df = pd.read_csv('population.csv', skiprows=3)\n",
    "    lists, df = country_list_gen(df)\n",
    "    if country in lists:\n",
    "        df = selecting_country(df, country)\n",
    "        model = prediction_model(df)\n",
    "        result = prediction(model,year)\n",
    "        print(f\"\\n Result: {country.upper()} population in {year} will be {result:,d}\")\n",
    "    else:\n",
    "        print('kindly check country name spelling from country_list.json')\n",
    "    \n",
    "if __name__ == \"__main__\":\n",
    "    main()\n"
   ]
  },
  {
   "cell_type": "code",
   "execution_count": null,
   "id": "567933d2",
   "metadata": {},
   "outputs": [],
   "source": []
  }
 ],
 "metadata": {
  "kernelspec": {
   "display_name": "Python 3 (ipykernel)",
   "language": "python",
   "name": "python3"
  },
  "language_info": {
   "codemirror_mode": {
    "name": "ipython",
    "version": 3
   },
   "file_extension": ".py",
   "mimetype": "text/x-python",
   "name": "python",
   "nbconvert_exporter": "python",
   "pygments_lexer": "ipython3",
   "version": "3.9.12"
  }
 },
 "nbformat": 4,
 "nbformat_minor": 5
}
