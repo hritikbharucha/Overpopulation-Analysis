{
 "cells": [
  {
   "cell_type": "markdown",
   "id": "941322fa",
   "metadata": {},
   "source": [
    "# Population Prediction Model"
   ]
  },
  {
   "cell_type": "markdown",
   "id": "362a3133",
   "metadata": {},
   "source": [
    "### Introduction\n",
    "In this project, I will fit population data from a dataset to a linear regression model to predict the population for any year in the future for any country. The dataset includes the populations of each country for the past 50 years."
   ]
  },
  {
   "cell_type": "code",
   "execution_count": 23,
   "id": "a07fe12e",
   "metadata": {},
   "outputs": [],
   "source": [
    "import pandas as pd\n",
    "import numpy as np\n",
    "from sklearn.linear_model import LinearRegression\n",
    "import re\n",
    "import json"
   ]
  },
  {
   "cell_type": "code",
   "execution_count": 13,
   "id": "0c04462d",
   "metadata": {},
   "outputs": [],
   "source": [
    "import warnings\n",
    "warnings.filterwarnings(\"ignore\")"
   ]
  },
  {
   "cell_type": "code",
   "execution_count": 14,
   "id": "1cff2c20",
   "metadata": {},
   "outputs": [],
   "source": [
    "def country_list_gen(df):\n",
    "    df.rename(columns={'Country Name':'country_name'},inplace=True)\n",
    "    df['country_name'] = df['country_name'].apply(lambda row: row.lower())\n",
    "    lists = df['country_name'].unique().tolist()\n",
    "    with open('country_list.json','w', encoding='utf-8') as f:\n",
    "        json.dump(lists, f, ensure_ascii=False,indent=4)\n",
    "    return lists, df"
   ]
  },
  {
   "cell_type": "code",
   "execution_count": 15,
   "id": "567933d2",
   "metadata": {},
   "outputs": [],
   "source": [
    "def selecting_country(df,country):\n",
    "    df = df.loc[df['country_name']==country]\n",
    "    df.drop(['country_name','Country Code','Indicator Name','Indicator Code'],axis=1,inplace=True)\n",
    "    df = df.T\n",
    "    df.dropna(inplace=True)\n",
    "    df = df.reset_index()\n",
    "    return df"
   ]
  },
  {
   "cell_type": "code",
   "execution_count": 16,
   "id": "0ef0bc8f",
   "metadata": {},
   "outputs": [],
   "source": [
    "def prediction_model(df):\n",
    "    x = df.iloc[:, 0].values.reshape(-1,1)\n",
    "    y = df.iloc[:, 1].values.reshape(-1,1)\n",
    "    model = LinearRegression().fit(x,y)\n",
    "    return model"
   ]
  },
  {
   "cell_type": "code",
   "execution_count": 17,
   "id": "36e62449",
   "metadata": {},
   "outputs": [],
   "source": [
    "def prediction(model, year):\n",
    "    return int(model.coef_[0][0] * year + model.intercept_[0])"
   ]
  },
  {
   "cell_type": "code",
   "execution_count": 21,
   "id": "858be254",
   "metadata": {},
   "outputs": [],
   "source": [
    "def main():\n",
    "    country = input(\"Enter name of the country: \").lower()\n",
    "    year = int(input(\"Enter the year to predict the population for: \"))\n",
    "    df = pd.read_csv('population.csv', skiprows=3)\n",
    "    lists, df = country_list_gen(df)\n",
    "    if country in lists:\n",
    "        df = selecting_country(df, country)\n",
    "        model = prediction_model(df)\n",
    "        result = prediction(model,year)\n",
    "        print(f\"\\nThe population of {country.upper()} will be {result:,d} in {year}\")\n",
    "    else:\n",
    "        print('Invalid country.')"
   ]
  },
  {
   "cell_type": "code",
   "execution_count": 29,
   "id": "496e348b",
   "metadata": {},
   "outputs": [
    {
     "name": "stdout",
     "output_type": "stream",
     "text": [
      "Enter name of the country: bangladesh\n",
      "Enter the year to predict the population for: 2061\n",
      "\n",
      "The population of BANGLADESH will be 251,545,210 in 2061\n"
     ]
    }
   ],
   "source": [
    "if __name__ == \"__main__\":\n",
    "    main()"
   ]
  },
  {
   "cell_type": "markdown",
   "id": "7e0ae385",
   "metadata": {},
   "source": [
    "### Conclusion\n",
    "Overpopulation could result in shortages of food, water, housing, energy, and more resources. Therefore, it is important to watch the population growth and ensure we have solutions when the time comes. For example, Bangladesh is already very overpopulted, yet, according to my model, they will reach a population of 250,000,000 around 2060. Other countries could face similar problems of overpopulation eventually so we need to approach this as a global problem and begin finding solutions. "
   ]
  }
 ],
 "metadata": {
  "kernelspec": {
   "display_name": "Python 3 (ipykernel)",
   "language": "python",
   "name": "python3"
  },
  "language_info": {
   "codemirror_mode": {
    "name": "ipython",
    "version": 3
   },
   "file_extension": ".py",
   "mimetype": "text/x-python",
   "name": "python",
   "nbconvert_exporter": "python",
   "pygments_lexer": "ipython3",
   "version": "3.9.12"
  }
 },
 "nbformat": 4,
 "nbformat_minor": 5
}
